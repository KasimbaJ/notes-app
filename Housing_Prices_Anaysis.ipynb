{
  "nbformat": 4,
  "nbformat_minor": 0,
  "metadata": {
    "colab": {
      "name": "Housing Prices Anaysis.ipynb",
      "provenance": [],
      "mount_file_id": "1HS0IGltAr2Sz6EVtNsVGyyaYTR-B8doW",
      "authorship_tag": "ABX9TyNxSvIkDkLMf8Fb3U2UaJti",
      "include_colab_link": true
    },
    "kernelspec": {
      "name": "python3",
      "display_name": "Python 3"
    },
    "language_info": {
      "name": "python"
    }
  },
  "cells": [
    {
      "cell_type": "markdown",
      "metadata": {
        "id": "view-in-github",
        "colab_type": "text"
      },
      "source": [
        "<a href=\"https://colab.research.google.com/github/KasimbaJ/notes-app/blob/main/Housing_Prices_Anaysis.ipynb\" target=\"_parent\"><img src=\"https://colab.research.google.com/assets/colab-badge.svg\" alt=\"Open In Colab\"/></a>"
      ]
    },
    {
      "cell_type": "code",
      "execution_count": 3,
      "metadata": {
        "id": "dl9KZac5fmtN"
      },
      "outputs": [],
      "source": [
        "import numpy as np\n",
        "import pandas as pd\n",
        "import seaborn as sns\n",
        "import matplotlib.pyplot as plt\n",
        "import plotly.graph_objs as go\n",
        "\n",
        "from datetime import datetime\n",
        "# from pandarallel import pandarallel\n",
        "from imblearn.over_sampling import SMOTE\n",
        "from sklearn.preprocessing import LabelEncoder\n",
        "from sklearn.model_selection import train_test_split\n",
        "from sklearn.linear_model import LinearRegression\n",
        "from sklearn.preprocessing import StandardScaler\n",
        "from sklearn.preprocessing import PolynomialFeatures\n",
        "from sklearn.model_selection import cross_val_score\n",
        "from sklearn.model_selection import KFold \n",
        "from sklearn.pipeline import Pipeline\n",
        "from sklearn.metrics import mean_squared_error\n",
        "from sklearn.preprocessing import OneHotEncoder\n",
        "from sklearn.ensemble import IsolationForest\n",
        "from sklearn.metrics import mean_absolute_error\n",
        "from sklearn.tree import DecisionTreeRegressor\n",
        "from sklearn.ensemble import RandomForestRegressor\n",
        "from sklearn.ensemble import IsolationForest\n",
        "from sklearn.ensemble import RandomForestClassifier\n",
        "from plotly.offline import iplot"
      ]
    },
    {
      "cell_type": "code",
      "source": [
        "hp = pd.read_csv(\"/content/drive/MyDrive/price_paid_records.csv\")\n",
        "hp.head()"
      ],
      "metadata": {
        "colab": {
          "base_uri": "https://localhost:8080/",
          "height": 513
        },
        "id": "F7T2yL9iguQh",
        "outputId": "92495342-93d9-4e78-c629-1726b254e74b"
      },
      "execution_count": 5,
      "outputs": [
        {
          "output_type": "execute_result",
          "data": {
            "text/plain": [
              "            Transaction unique identifier  Price  Date of Transfer  \\\n",
              "0  {81B82214-7FBC-4129-9F6B-4956B4A663AD}  25000  1995-08-18 00:00   \n",
              "1  {8046EC72-1466-42D6-A753-4956BF7CD8A2}  42500  1995-08-09 00:00   \n",
              "2  {278D581A-5BF3-4FCE-AF62-4956D87691E6}  45000  1995-06-30 00:00   \n",
              "3  {1D861C06-A416-4865-973C-4956DB12CD12}  43150  1995-11-24 00:00   \n",
              "4  {DD8645FD-A815-43A6-A7BA-4956E58F1874}  18899  1995-06-23 00:00   \n",
              "\n",
              "  Property Type Old/New Duration   Town/City            District  \\\n",
              "0             T       N        F      OLDHAM              OLDHAM   \n",
              "1             S       N        F       GRAYS            THURROCK   \n",
              "2             T       N        F  HIGHBRIDGE           SEDGEMOOR   \n",
              "3             T       N        F     BEDFORD  NORTH BEDFORDSHIRE   \n",
              "4             S       N        F   WAKEFIELD               LEEDS   \n",
              "\n",
              "               County PPDCategory Type Record Status - monthly file only  \n",
              "0  GREATER MANCHESTER                A                                 A  \n",
              "1            THURROCK                A                                 A  \n",
              "2            SOMERSET                A                                 A  \n",
              "3        BEDFORDSHIRE                A                                 A  \n",
              "4      WEST YORKSHIRE                A                                 A  "
            ],
            "text/html": [
              "\n",
              "  <div id=\"df-4d4bf76e-3ba4-46c3-a0dc-19731fdf70fe\">\n",
              "    <div class=\"colab-df-container\">\n",
              "      <div>\n",
              "<style scoped>\n",
              "    .dataframe tbody tr th:only-of-type {\n",
              "        vertical-align: middle;\n",
              "    }\n",
              "\n",
              "    .dataframe tbody tr th {\n",
              "        vertical-align: top;\n",
              "    }\n",
              "\n",
              "    .dataframe thead th {\n",
              "        text-align: right;\n",
              "    }\n",
              "</style>\n",
              "<table border=\"1\" class=\"dataframe\">\n",
              "  <thead>\n",
              "    <tr style=\"text-align: right;\">\n",
              "      <th></th>\n",
              "      <th>Transaction unique identifier</th>\n",
              "      <th>Price</th>\n",
              "      <th>Date of Transfer</th>\n",
              "      <th>Property Type</th>\n",
              "      <th>Old/New</th>\n",
              "      <th>Duration</th>\n",
              "      <th>Town/City</th>\n",
              "      <th>District</th>\n",
              "      <th>County</th>\n",
              "      <th>PPDCategory Type</th>\n",
              "      <th>Record Status - monthly file only</th>\n",
              "    </tr>\n",
              "  </thead>\n",
              "  <tbody>\n",
              "    <tr>\n",
              "      <th>0</th>\n",
              "      <td>{81B82214-7FBC-4129-9F6B-4956B4A663AD}</td>\n",
              "      <td>25000</td>\n",
              "      <td>1995-08-18 00:00</td>\n",
              "      <td>T</td>\n",
              "      <td>N</td>\n",
              "      <td>F</td>\n",
              "      <td>OLDHAM</td>\n",
              "      <td>OLDHAM</td>\n",
              "      <td>GREATER MANCHESTER</td>\n",
              "      <td>A</td>\n",
              "      <td>A</td>\n",
              "    </tr>\n",
              "    <tr>\n",
              "      <th>1</th>\n",
              "      <td>{8046EC72-1466-42D6-A753-4956BF7CD8A2}</td>\n",
              "      <td>42500</td>\n",
              "      <td>1995-08-09 00:00</td>\n",
              "      <td>S</td>\n",
              "      <td>N</td>\n",
              "      <td>F</td>\n",
              "      <td>GRAYS</td>\n",
              "      <td>THURROCK</td>\n",
              "      <td>THURROCK</td>\n",
              "      <td>A</td>\n",
              "      <td>A</td>\n",
              "    </tr>\n",
              "    <tr>\n",
              "      <th>2</th>\n",
              "      <td>{278D581A-5BF3-4FCE-AF62-4956D87691E6}</td>\n",
              "      <td>45000</td>\n",
              "      <td>1995-06-30 00:00</td>\n",
              "      <td>T</td>\n",
              "      <td>N</td>\n",
              "      <td>F</td>\n",
              "      <td>HIGHBRIDGE</td>\n",
              "      <td>SEDGEMOOR</td>\n",
              "      <td>SOMERSET</td>\n",
              "      <td>A</td>\n",
              "      <td>A</td>\n",
              "    </tr>\n",
              "    <tr>\n",
              "      <th>3</th>\n",
              "      <td>{1D861C06-A416-4865-973C-4956DB12CD12}</td>\n",
              "      <td>43150</td>\n",
              "      <td>1995-11-24 00:00</td>\n",
              "      <td>T</td>\n",
              "      <td>N</td>\n",
              "      <td>F</td>\n",
              "      <td>BEDFORD</td>\n",
              "      <td>NORTH BEDFORDSHIRE</td>\n",
              "      <td>BEDFORDSHIRE</td>\n",
              "      <td>A</td>\n",
              "      <td>A</td>\n",
              "    </tr>\n",
              "    <tr>\n",
              "      <th>4</th>\n",
              "      <td>{DD8645FD-A815-43A6-A7BA-4956E58F1874}</td>\n",
              "      <td>18899</td>\n",
              "      <td>1995-06-23 00:00</td>\n",
              "      <td>S</td>\n",
              "      <td>N</td>\n",
              "      <td>F</td>\n",
              "      <td>WAKEFIELD</td>\n",
              "      <td>LEEDS</td>\n",
              "      <td>WEST YORKSHIRE</td>\n",
              "      <td>A</td>\n",
              "      <td>A</td>\n",
              "    </tr>\n",
              "  </tbody>\n",
              "</table>\n",
              "</div>\n",
              "      <button class=\"colab-df-convert\" onclick=\"convertToInteractive('df-4d4bf76e-3ba4-46c3-a0dc-19731fdf70fe')\"\n",
              "              title=\"Convert this dataframe to an interactive table.\"\n",
              "              style=\"display:none;\">\n",
              "        \n",
              "  <svg xmlns=\"http://www.w3.org/2000/svg\" height=\"24px\"viewBox=\"0 0 24 24\"\n",
              "       width=\"24px\">\n",
              "    <path d=\"M0 0h24v24H0V0z\" fill=\"none\"/>\n",
              "    <path d=\"M18.56 5.44l.94 2.06.94-2.06 2.06-.94-2.06-.94-.94-2.06-.94 2.06-2.06.94zm-11 1L8.5 8.5l.94-2.06 2.06-.94-2.06-.94L8.5 2.5l-.94 2.06-2.06.94zm10 10l.94 2.06.94-2.06 2.06-.94-2.06-.94-.94-2.06-.94 2.06-2.06.94z\"/><path d=\"M17.41 7.96l-1.37-1.37c-.4-.4-.92-.59-1.43-.59-.52 0-1.04.2-1.43.59L10.3 9.45l-7.72 7.72c-.78.78-.78 2.05 0 2.83L4 21.41c.39.39.9.59 1.41.59.51 0 1.02-.2 1.41-.59l7.78-7.78 2.81-2.81c.8-.78.8-2.07 0-2.86zM5.41 20L4 18.59l7.72-7.72 1.47 1.35L5.41 20z\"/>\n",
              "  </svg>\n",
              "      </button>\n",
              "      \n",
              "  <style>\n",
              "    .colab-df-container {\n",
              "      display:flex;\n",
              "      flex-wrap:wrap;\n",
              "      gap: 12px;\n",
              "    }\n",
              "\n",
              "    .colab-df-convert {\n",
              "      background-color: #E8F0FE;\n",
              "      border: none;\n",
              "      border-radius: 50%;\n",
              "      cursor: pointer;\n",
              "      display: none;\n",
              "      fill: #1967D2;\n",
              "      height: 32px;\n",
              "      padding: 0 0 0 0;\n",
              "      width: 32px;\n",
              "    }\n",
              "\n",
              "    .colab-df-convert:hover {\n",
              "      background-color: #E2EBFA;\n",
              "      box-shadow: 0px 1px 2px rgba(60, 64, 67, 0.3), 0px 1px 3px 1px rgba(60, 64, 67, 0.15);\n",
              "      fill: #174EA6;\n",
              "    }\n",
              "\n",
              "    [theme=dark] .colab-df-convert {\n",
              "      background-color: #3B4455;\n",
              "      fill: #D2E3FC;\n",
              "    }\n",
              "\n",
              "    [theme=dark] .colab-df-convert:hover {\n",
              "      background-color: #434B5C;\n",
              "      box-shadow: 0px 1px 3px 1px rgba(0, 0, 0, 0.15);\n",
              "      filter: drop-shadow(0px 1px 2px rgba(0, 0, 0, 0.3));\n",
              "      fill: #FFFFFF;\n",
              "    }\n",
              "  </style>\n",
              "\n",
              "      <script>\n",
              "        const buttonEl =\n",
              "          document.querySelector('#df-4d4bf76e-3ba4-46c3-a0dc-19731fdf70fe button.colab-df-convert');\n",
              "        buttonEl.style.display =\n",
              "          google.colab.kernel.accessAllowed ? 'block' : 'none';\n",
              "\n",
              "        async function convertToInteractive(key) {\n",
              "          const element = document.querySelector('#df-4d4bf76e-3ba4-46c3-a0dc-19731fdf70fe');\n",
              "          const dataTable =\n",
              "            await google.colab.kernel.invokeFunction('convertToInteractive',\n",
              "                                                     [key], {});\n",
              "          if (!dataTable) return;\n",
              "\n",
              "          const docLinkHtml = 'Like what you see? Visit the ' +\n",
              "            '<a target=\"_blank\" href=https://colab.research.google.com/notebooks/data_table.ipynb>data table notebook</a>'\n",
              "            + ' to learn more about interactive tables.';\n",
              "          element.innerHTML = '';\n",
              "          dataTable['output_type'] = 'display_data';\n",
              "          await google.colab.output.renderOutput(dataTable, element);\n",
              "          const docLink = document.createElement('div');\n",
              "          docLink.innerHTML = docLinkHtml;\n",
              "          element.appendChild(docLink);\n",
              "        }\n",
              "      </script>\n",
              "    </div>\n",
              "  </div>\n",
              "  "
            ]
          },
          "metadata": {},
          "execution_count": 5
        }
      ]
    },
    {
      "cell_type": "code",
      "source": [
        "hp.describe()"
      ],
      "metadata": {
        "colab": {
          "base_uri": "https://localhost:8080/",
          "height": 300
        },
        "id": "Zq97Jm6QhN8Q",
        "outputId": "9909f87f-13a5-4143-9461-af2af57fc9d5"
      },
      "execution_count": 6,
      "outputs": [
        {
          "output_type": "execute_result",
          "data": {
            "text/plain": [
              "              Price\n",
              "count  2.248935e+07\n",
              "mean   1.782442e+05\n",
              "std    3.903677e+05\n",
              "min    1.000000e+00\n",
              "25%    7.500000e+04\n",
              "50%    1.300000e+05\n",
              "75%    2.100000e+05\n",
              "max    9.890000e+07"
            ],
            "text/html": [
              "\n",
              "  <div id=\"df-75fbb185-8ae3-4577-9bee-e0847074753b\">\n",
              "    <div class=\"colab-df-container\">\n",
              "      <div>\n",
              "<style scoped>\n",
              "    .dataframe tbody tr th:only-of-type {\n",
              "        vertical-align: middle;\n",
              "    }\n",
              "\n",
              "    .dataframe tbody tr th {\n",
              "        vertical-align: top;\n",
              "    }\n",
              "\n",
              "    .dataframe thead th {\n",
              "        text-align: right;\n",
              "    }\n",
              "</style>\n",
              "<table border=\"1\" class=\"dataframe\">\n",
              "  <thead>\n",
              "    <tr style=\"text-align: right;\">\n",
              "      <th></th>\n",
              "      <th>Price</th>\n",
              "    </tr>\n",
              "  </thead>\n",
              "  <tbody>\n",
              "    <tr>\n",
              "      <th>count</th>\n",
              "      <td>2.248935e+07</td>\n",
              "    </tr>\n",
              "    <tr>\n",
              "      <th>mean</th>\n",
              "      <td>1.782442e+05</td>\n",
              "    </tr>\n",
              "    <tr>\n",
              "      <th>std</th>\n",
              "      <td>3.903677e+05</td>\n",
              "    </tr>\n",
              "    <tr>\n",
              "      <th>min</th>\n",
              "      <td>1.000000e+00</td>\n",
              "    </tr>\n",
              "    <tr>\n",
              "      <th>25%</th>\n",
              "      <td>7.500000e+04</td>\n",
              "    </tr>\n",
              "    <tr>\n",
              "      <th>50%</th>\n",
              "      <td>1.300000e+05</td>\n",
              "    </tr>\n",
              "    <tr>\n",
              "      <th>75%</th>\n",
              "      <td>2.100000e+05</td>\n",
              "    </tr>\n",
              "    <tr>\n",
              "      <th>max</th>\n",
              "      <td>9.890000e+07</td>\n",
              "    </tr>\n",
              "  </tbody>\n",
              "</table>\n",
              "</div>\n",
              "      <button class=\"colab-df-convert\" onclick=\"convertToInteractive('df-75fbb185-8ae3-4577-9bee-e0847074753b')\"\n",
              "              title=\"Convert this dataframe to an interactive table.\"\n",
              "              style=\"display:none;\">\n",
              "        \n",
              "  <svg xmlns=\"http://www.w3.org/2000/svg\" height=\"24px\"viewBox=\"0 0 24 24\"\n",
              "       width=\"24px\">\n",
              "    <path d=\"M0 0h24v24H0V0z\" fill=\"none\"/>\n",
              "    <path d=\"M18.56 5.44l.94 2.06.94-2.06 2.06-.94-2.06-.94-.94-2.06-.94 2.06-2.06.94zm-11 1L8.5 8.5l.94-2.06 2.06-.94-2.06-.94L8.5 2.5l-.94 2.06-2.06.94zm10 10l.94 2.06.94-2.06 2.06-.94-2.06-.94-.94-2.06-.94 2.06-2.06.94z\"/><path d=\"M17.41 7.96l-1.37-1.37c-.4-.4-.92-.59-1.43-.59-.52 0-1.04.2-1.43.59L10.3 9.45l-7.72 7.72c-.78.78-.78 2.05 0 2.83L4 21.41c.39.39.9.59 1.41.59.51 0 1.02-.2 1.41-.59l7.78-7.78 2.81-2.81c.8-.78.8-2.07 0-2.86zM5.41 20L4 18.59l7.72-7.72 1.47 1.35L5.41 20z\"/>\n",
              "  </svg>\n",
              "      </button>\n",
              "      \n",
              "  <style>\n",
              "    .colab-df-container {\n",
              "      display:flex;\n",
              "      flex-wrap:wrap;\n",
              "      gap: 12px;\n",
              "    }\n",
              "\n",
              "    .colab-df-convert {\n",
              "      background-color: #E8F0FE;\n",
              "      border: none;\n",
              "      border-radius: 50%;\n",
              "      cursor: pointer;\n",
              "      display: none;\n",
              "      fill: #1967D2;\n",
              "      height: 32px;\n",
              "      padding: 0 0 0 0;\n",
              "      width: 32px;\n",
              "    }\n",
              "\n",
              "    .colab-df-convert:hover {\n",
              "      background-color: #E2EBFA;\n",
              "      box-shadow: 0px 1px 2px rgba(60, 64, 67, 0.3), 0px 1px 3px 1px rgba(60, 64, 67, 0.15);\n",
              "      fill: #174EA6;\n",
              "    }\n",
              "\n",
              "    [theme=dark] .colab-df-convert {\n",
              "      background-color: #3B4455;\n",
              "      fill: #D2E3FC;\n",
              "    }\n",
              "\n",
              "    [theme=dark] .colab-df-convert:hover {\n",
              "      background-color: #434B5C;\n",
              "      box-shadow: 0px 1px 3px 1px rgba(0, 0, 0, 0.15);\n",
              "      filter: drop-shadow(0px 1px 2px rgba(0, 0, 0, 0.3));\n",
              "      fill: #FFFFFF;\n",
              "    }\n",
              "  </style>\n",
              "\n",
              "      <script>\n",
              "        const buttonEl =\n",
              "          document.querySelector('#df-75fbb185-8ae3-4577-9bee-e0847074753b button.colab-df-convert');\n",
              "        buttonEl.style.display =\n",
              "          google.colab.kernel.accessAllowed ? 'block' : 'none';\n",
              "\n",
              "        async function convertToInteractive(key) {\n",
              "          const element = document.querySelector('#df-75fbb185-8ae3-4577-9bee-e0847074753b');\n",
              "          const dataTable =\n",
              "            await google.colab.kernel.invokeFunction('convertToInteractive',\n",
              "                                                     [key], {});\n",
              "          if (!dataTable) return;\n",
              "\n",
              "          const docLinkHtml = 'Like what you see? Visit the ' +\n",
              "            '<a target=\"_blank\" href=https://colab.research.google.com/notebooks/data_table.ipynb>data table notebook</a>'\n",
              "            + ' to learn more about interactive tables.';\n",
              "          element.innerHTML = '';\n",
              "          dataTable['output_type'] = 'display_data';\n",
              "          await google.colab.output.renderOutput(dataTable, element);\n",
              "          const docLink = document.createElement('div');\n",
              "          docLink.innerHTML = docLinkHtml;\n",
              "          element.appendChild(docLink);\n",
              "        }\n",
              "      </script>\n",
              "    </div>\n",
              "  </div>\n",
              "  "
            ]
          },
          "metadata": {},
          "execution_count": 6
        }
      ]
    },
    {
      "cell_type": "markdown",
      "source": [
        "Describe price feature:"
      ],
      "metadata": {
        "id": "9c4URbj7hhK6"
      }
    },
    {
      "cell_type": "code",
      "source": [
        "hp['Price'].describe()"
      ],
      "metadata": {
        "colab": {
          "base_uri": "https://localhost:8080/"
        },
        "id": "dQj3CyEthbuK",
        "outputId": "bb0d1835-62a1-40cc-eabd-ed5e7da54dbe"
      },
      "execution_count": 7,
      "outputs": [
        {
          "output_type": "execute_result",
          "data": {
            "text/plain": [
              "count    2.248935e+07\n",
              "mean     1.782442e+05\n",
              "std      3.903677e+05\n",
              "min      1.000000e+00\n",
              "25%      7.500000e+04\n",
              "50%      1.300000e+05\n",
              "75%      2.100000e+05\n",
              "max      9.890000e+07\n",
              "Name: Price, dtype: float64"
            ]
          },
          "metadata": {},
          "execution_count": 7
        }
      ]
    },
    {
      "cell_type": "code",
      "source": [
        "hp.info()"
      ],
      "metadata": {
        "colab": {
          "base_uri": "https://localhost:8080/"
        },
        "id": "tnCz8d7siDMI",
        "outputId": "6418deb0-9b17-4059-b873-6e789fb13d57"
      },
      "execution_count": 8,
      "outputs": [
        {
          "output_type": "stream",
          "name": "stdout",
          "text": [
            "<class 'pandas.core.frame.DataFrame'>\n",
            "RangeIndex: 22489348 entries, 0 to 22489347\n",
            "Data columns (total 11 columns):\n",
            " #   Column                             Dtype \n",
            "---  ------                             ----- \n",
            " 0   Transaction unique identifier      object\n",
            " 1   Price                              int64 \n",
            " 2   Date of Transfer                   object\n",
            " 3   Property Type                      object\n",
            " 4   Old/New                            object\n",
            " 5   Duration                           object\n",
            " 6   Town/City                          object\n",
            " 7   District                           object\n",
            " 8   County                             object\n",
            " 9   PPDCategory Type                   object\n",
            " 10  Record Status - monthly file only  object\n",
            "dtypes: int64(1), object(10)\n",
            "memory usage: 1.8+ GB\n"
          ]
        }
      ]
    },
    {
      "cell_type": "code",
      "source": [
        "hp.count()"
      ],
      "metadata": {
        "colab": {
          "base_uri": "https://localhost:8080/"
        },
        "id": "5Q9f5y84iFY8",
        "outputId": "677d9a4e-13fc-492b-fccb-fcf5fd150c39"
      },
      "execution_count": 9,
      "outputs": [
        {
          "output_type": "execute_result",
          "data": {
            "text/plain": [
              "Transaction unique identifier        22489348\n",
              "Price                                22489348\n",
              "Date of Transfer                     22489348\n",
              "Property Type                        22489348\n",
              "Old/New                              22489348\n",
              "Duration                             22489348\n",
              "Town/City                            22489348\n",
              "District                             22489348\n",
              "County                               22489348\n",
              "PPDCategory Type                     22489348\n",
              "Record Status - monthly file only    22489348\n",
              "dtype: int64"
            ]
          },
          "metadata": {},
          "execution_count": 9
        }
      ]
    },
    {
      "cell_type": "markdown",
      "source": [
        "Printing features list\n"
      ],
      "metadata": {
        "id": "VORmGC0KiT9i"
      }
    },
    {
      "cell_type": "code",
      "source": [
        "feat_cols = hp.columns\n",
        "feat_cols"
      ],
      "metadata": {
        "colab": {
          "base_uri": "https://localhost:8080/"
        },
        "id": "1CrlxPHxiTvr",
        "outputId": "b47ca69e-6be7-4106-f212-345514f4bfc5"
      },
      "execution_count": 10,
      "outputs": [
        {
          "output_type": "execute_result",
          "data": {
            "text/plain": [
              "Index(['Transaction unique identifier', 'Price', 'Date of Transfer',\n",
              "       'Property Type', 'Old/New', 'Duration', 'Town/City', 'District',\n",
              "       'County', 'PPDCategory Type', 'Record Status - monthly file only'],\n",
              "      dtype='object')"
            ]
          },
          "metadata": {},
          "execution_count": 10
        }
      ]
    },
    {
      "cell_type": "markdown",
      "source": [
        "Clean the data: Check for null values"
      ],
      "metadata": {
        "id": "mSUyqd99ihin"
      }
    },
    {
      "cell_type": "code",
      "source": [
        "hp.isnull().sum()"
      ],
      "metadata": {
        "colab": {
          "base_uri": "https://localhost:8080/"
        },
        "id": "1QTarZSoipgy",
        "outputId": "60c1c3af-2b99-49f9-e774-14d024c19cdc"
      },
      "execution_count": 11,
      "outputs": [
        {
          "output_type": "execute_result",
          "data": {
            "text/plain": [
              "Transaction unique identifier        0\n",
              "Price                                0\n",
              "Date of Transfer                     0\n",
              "Property Type                        0\n",
              "Old/New                              0\n",
              "Duration                             0\n",
              "Town/City                            0\n",
              "District                             0\n",
              "County                               0\n",
              "PPDCategory Type                     0\n",
              "Record Status - monthly file only    0\n",
              "dtype: int64"
            ]
          },
          "metadata": {},
          "execution_count": 11
        }
      ]
    },
    {
      "cell_type": "markdown",
      "source": [
        "Get rid of some features"
      ],
      "metadata": {
        "id": "WwgoimH6jDXB"
      }
    },
    {
      "cell_type": "code",
      "source": [
        "hp.drop(columns = 'Transaction unique identifier', axis = 1, inplace = True)\n",
        "hp.drop(columns = 'Duration', axis = 1, inplace = True)\n",
        "hp.drop(columns = 'PPDCategory Type', axis = 1, inplace = True)\n",
        "hp.drop(columns = 'Record Status - monthly file only', axis = 1, inplace = True)\n",
        "\n",
        "hp.head()"
      ],
      "metadata": {
        "colab": {
          "base_uri": "https://localhost:8080/",
          "height": 374
        },
        "id": "3ay6yjk1jOpg",
        "outputId": "b2a703c3-643a-4227-95d1-4943f2f67f0b"
      },
      "execution_count": 12,
      "outputs": [
        {
          "output_type": "execute_result",
          "data": {
            "text/plain": [
              "   Price  Date of Transfer Property Type Old/New   Town/City  \\\n",
              "0  25000  1995-08-18 00:00             T       N      OLDHAM   \n",
              "1  42500  1995-08-09 00:00             S       N       GRAYS   \n",
              "2  45000  1995-06-30 00:00             T       N  HIGHBRIDGE   \n",
              "3  43150  1995-11-24 00:00             T       N     BEDFORD   \n",
              "4  18899  1995-06-23 00:00             S       N   WAKEFIELD   \n",
              "\n",
              "             District              County  \n",
              "0              OLDHAM  GREATER MANCHESTER  \n",
              "1            THURROCK            THURROCK  \n",
              "2           SEDGEMOOR            SOMERSET  \n",
              "3  NORTH BEDFORDSHIRE        BEDFORDSHIRE  \n",
              "4               LEEDS      WEST YORKSHIRE  "
            ],
            "text/html": [
              "\n",
              "  <div id=\"df-3fce087e-4318-4d05-bb7d-6c9dcf291a3b\">\n",
              "    <div class=\"colab-df-container\">\n",
              "      <div>\n",
              "<style scoped>\n",
              "    .dataframe tbody tr th:only-of-type {\n",
              "        vertical-align: middle;\n",
              "    }\n",
              "\n",
              "    .dataframe tbody tr th {\n",
              "        vertical-align: top;\n",
              "    }\n",
              "\n",
              "    .dataframe thead th {\n",
              "        text-align: right;\n",
              "    }\n",
              "</style>\n",
              "<table border=\"1\" class=\"dataframe\">\n",
              "  <thead>\n",
              "    <tr style=\"text-align: right;\">\n",
              "      <th></th>\n",
              "      <th>Price</th>\n",
              "      <th>Date of Transfer</th>\n",
              "      <th>Property Type</th>\n",
              "      <th>Old/New</th>\n",
              "      <th>Town/City</th>\n",
              "      <th>District</th>\n",
              "      <th>County</th>\n",
              "    </tr>\n",
              "  </thead>\n",
              "  <tbody>\n",
              "    <tr>\n",
              "      <th>0</th>\n",
              "      <td>25000</td>\n",
              "      <td>1995-08-18 00:00</td>\n",
              "      <td>T</td>\n",
              "      <td>N</td>\n",
              "      <td>OLDHAM</td>\n",
              "      <td>OLDHAM</td>\n",
              "      <td>GREATER MANCHESTER</td>\n",
              "    </tr>\n",
              "    <tr>\n",
              "      <th>1</th>\n",
              "      <td>42500</td>\n",
              "      <td>1995-08-09 00:00</td>\n",
              "      <td>S</td>\n",
              "      <td>N</td>\n",
              "      <td>GRAYS</td>\n",
              "      <td>THURROCK</td>\n",
              "      <td>THURROCK</td>\n",
              "    </tr>\n",
              "    <tr>\n",
              "      <th>2</th>\n",
              "      <td>45000</td>\n",
              "      <td>1995-06-30 00:00</td>\n",
              "      <td>T</td>\n",
              "      <td>N</td>\n",
              "      <td>HIGHBRIDGE</td>\n",
              "      <td>SEDGEMOOR</td>\n",
              "      <td>SOMERSET</td>\n",
              "    </tr>\n",
              "    <tr>\n",
              "      <th>3</th>\n",
              "      <td>43150</td>\n",
              "      <td>1995-11-24 00:00</td>\n",
              "      <td>T</td>\n",
              "      <td>N</td>\n",
              "      <td>BEDFORD</td>\n",
              "      <td>NORTH BEDFORDSHIRE</td>\n",
              "      <td>BEDFORDSHIRE</td>\n",
              "    </tr>\n",
              "    <tr>\n",
              "      <th>4</th>\n",
              "      <td>18899</td>\n",
              "      <td>1995-06-23 00:00</td>\n",
              "      <td>S</td>\n",
              "      <td>N</td>\n",
              "      <td>WAKEFIELD</td>\n",
              "      <td>LEEDS</td>\n",
              "      <td>WEST YORKSHIRE</td>\n",
              "    </tr>\n",
              "  </tbody>\n",
              "</table>\n",
              "</div>\n",
              "      <button class=\"colab-df-convert\" onclick=\"convertToInteractive('df-3fce087e-4318-4d05-bb7d-6c9dcf291a3b')\"\n",
              "              title=\"Convert this dataframe to an interactive table.\"\n",
              "              style=\"display:none;\">\n",
              "        \n",
              "  <svg xmlns=\"http://www.w3.org/2000/svg\" height=\"24px\"viewBox=\"0 0 24 24\"\n",
              "       width=\"24px\">\n",
              "    <path d=\"M0 0h24v24H0V0z\" fill=\"none\"/>\n",
              "    <path d=\"M18.56 5.44l.94 2.06.94-2.06 2.06-.94-2.06-.94-.94-2.06-.94 2.06-2.06.94zm-11 1L8.5 8.5l.94-2.06 2.06-.94-2.06-.94L8.5 2.5l-.94 2.06-2.06.94zm10 10l.94 2.06.94-2.06 2.06-.94-2.06-.94-.94-2.06-.94 2.06-2.06.94z\"/><path d=\"M17.41 7.96l-1.37-1.37c-.4-.4-.92-.59-1.43-.59-.52 0-1.04.2-1.43.59L10.3 9.45l-7.72 7.72c-.78.78-.78 2.05 0 2.83L4 21.41c.39.39.9.59 1.41.59.51 0 1.02-.2 1.41-.59l7.78-7.78 2.81-2.81c.8-.78.8-2.07 0-2.86zM5.41 20L4 18.59l7.72-7.72 1.47 1.35L5.41 20z\"/>\n",
              "  </svg>\n",
              "      </button>\n",
              "      \n",
              "  <style>\n",
              "    .colab-df-container {\n",
              "      display:flex;\n",
              "      flex-wrap:wrap;\n",
              "      gap: 12px;\n",
              "    }\n",
              "\n",
              "    .colab-df-convert {\n",
              "      background-color: #E8F0FE;\n",
              "      border: none;\n",
              "      border-radius: 50%;\n",
              "      cursor: pointer;\n",
              "      display: none;\n",
              "      fill: #1967D2;\n",
              "      height: 32px;\n",
              "      padding: 0 0 0 0;\n",
              "      width: 32px;\n",
              "    }\n",
              "\n",
              "    .colab-df-convert:hover {\n",
              "      background-color: #E2EBFA;\n",
              "      box-shadow: 0px 1px 2px rgba(60, 64, 67, 0.3), 0px 1px 3px 1px rgba(60, 64, 67, 0.15);\n",
              "      fill: #174EA6;\n",
              "    }\n",
              "\n",
              "    [theme=dark] .colab-df-convert {\n",
              "      background-color: #3B4455;\n",
              "      fill: #D2E3FC;\n",
              "    }\n",
              "\n",
              "    [theme=dark] .colab-df-convert:hover {\n",
              "      background-color: #434B5C;\n",
              "      box-shadow: 0px 1px 3px 1px rgba(0, 0, 0, 0.15);\n",
              "      filter: drop-shadow(0px 1px 2px rgba(0, 0, 0, 0.3));\n",
              "      fill: #FFFFFF;\n",
              "    }\n",
              "  </style>\n",
              "\n",
              "      <script>\n",
              "        const buttonEl =\n",
              "          document.querySelector('#df-3fce087e-4318-4d05-bb7d-6c9dcf291a3b button.colab-df-convert');\n",
              "        buttonEl.style.display =\n",
              "          google.colab.kernel.accessAllowed ? 'block' : 'none';\n",
              "\n",
              "        async function convertToInteractive(key) {\n",
              "          const element = document.querySelector('#df-3fce087e-4318-4d05-bb7d-6c9dcf291a3b');\n",
              "          const dataTable =\n",
              "            await google.colab.kernel.invokeFunction('convertToInteractive',\n",
              "                                                     [key], {});\n",
              "          if (!dataTable) return;\n",
              "\n",
              "          const docLinkHtml = 'Like what you see? Visit the ' +\n",
              "            '<a target=\"_blank\" href=https://colab.research.google.com/notebooks/data_table.ipynb>data table notebook</a>'\n",
              "            + ' to learn more about interactive tables.';\n",
              "          element.innerHTML = '';\n",
              "          dataTable['output_type'] = 'display_data';\n",
              "          await google.colab.output.renderOutput(dataTable, element);\n",
              "          const docLink = document.createElement('div');\n",
              "          docLink.innerHTML = docLinkHtml;\n",
              "          element.appendChild(docLink);\n",
              "        }\n",
              "      </script>\n",
              "    </div>\n",
              "  </div>\n",
              "  "
            ]
          },
          "metadata": {},
          "execution_count": 12
        }
      ]
    },
    {
      "cell_type": "markdown",
      "source": [
        "Analyse the data"
      ],
      "metadata": {
        "id": "X3xs_bpqkAPp"
      }
    },
    {
      "cell_type": "code",
      "source": [
        "print('Number of cities:', hp['Town/City'].nunique())"
      ],
      "metadata": {
        "colab": {
          "base_uri": "https://localhost:8080/"
        },
        "id": "mEQsQ2bdkC8d",
        "outputId": "2fb49256-1d6b-422f-e521-89b18ff62772"
      },
      "execution_count": 13,
      "outputs": [
        {
          "output_type": "stream",
          "name": "stdout",
          "text": [
            "Number of cities: 1170\n"
          ]
        }
      ]
    },
    {
      "cell_type": "markdown",
      "source": [
        "Recorded Transactions in London and York"
      ],
      "metadata": {
        "id": "0670gkZkkXTY"
      }
    },
    {
      "cell_type": "code",
      "source": [
        "print(\"Recorded transactions in London:\", hp[hp['Town/City'] == 'LONDON']['Price'].count())\n",
        "print(\"Recorded transactions in York:\", hp[hp['Town/City'] == 'YORK']['Price'].count())\n",
        "print(\"Recorded transactions in Burnley:\", hp[hp['Town/City'] == 'BURNLEY']['Price'].count())"
      ],
      "metadata": {
        "colab": {
          "base_uri": "https://localhost:8080/"
        },
        "id": "IL68FoyWkcZa",
        "outputId": "1d69b260-75c1-42cf-c11c-f28b8f219ac7"
      },
      "execution_count": 22,
      "outputs": [
        {
          "output_type": "stream",
          "name": "stdout",
          "text": [
            "Recorded transactions in London: 1784194\n",
            "Recorded transactions in York: 122206\n",
            "Recorded transactions in Burnley: 47755\n"
          ]
        }
      ]
    },
    {
      "cell_type": "markdown",
      "source": [
        "Create new dataset with the three cities"
      ],
      "metadata": {
        "id": "I6NKOdfTmxnI"
      }
    },
    {
      "cell_type": "code",
      "source": [
        "london_df = hp[hp['Town/City'] == 'LONDON'].copy()\n",
        "york_df = hp[hp['Town/City'] == 'YORK'].copy()\n",
        "burnley_df = hp[hp['Town/City'] == 'BURNLEY'].copy()"
      ],
      "metadata": {
        "id": "dUjJ7u0Qm1dn"
      },
      "execution_count": 23,
      "outputs": []
    },
    {
      "cell_type": "markdown",
      "source": [
        "Merge the data"
      ],
      "metadata": {
        "id": "p6DqUKRpm7qT"
      }
    },
    {
      "cell_type": "code",
      "source": [
        "merged_cities_df = pd.concat([london_df, york_df, burnley_df])\n",
        "merged_cities_df"
      ],
      "metadata": {
        "colab": {
          "base_uri": "https://localhost:8080/",
          "height": 678
        },
        "id": "pNBXDk1tm-Z_",
        "outputId": "3559850c-99fe-40c8-f672-74ac164f7707"
      },
      "execution_count": 24,
      "outputs": [
        {
          "output_type": "execute_result",
          "data": {
            "text/plain": [
              "           Price  Date of Transfer Property Type Old/New Town/City  \\\n",
              "30         62000  1995-02-21 00:00             T       N    LONDON   \n",
              "37         77495  1995-01-05 00:00             T       N    LONDON   \n",
              "105       121250  1995-05-19 00:00             F       N    LONDON   \n",
              "107       128500  1995-03-01 00:00             T       N    LONDON   \n",
              "114       157500  1995-03-17 00:00             S       N    LONDON   \n",
              "...          ...               ...           ...     ...       ...   \n",
              "22488249   70000  2017-04-04 00:00             F       N   BURNLEY   \n",
              "22488250   70000  2017-04-04 00:00             F       N   BURNLEY   \n",
              "22488251   70000  2017-04-04 00:00             F       N   BURNLEY   \n",
              "22488252   70000  2017-04-04 00:00             F       N   BURNLEY   \n",
              "22488253   70000  2017-04-04 00:00             F       N   BURNLEY   \n",
              "\n",
              "                District          County  \n",
              "30                BARNET  GREATER LONDON  \n",
              "37        WALTHAM FOREST  GREATER LONDON  \n",
              "105               BARNET  GREATER LONDON  \n",
              "107           WANDSWORTH  GREATER LONDON  \n",
              "114            ISLINGTON  GREATER LONDON  \n",
              "...                  ...             ...  \n",
              "22488249         BURNLEY      LANCASHIRE  \n",
              "22488250         BURNLEY      LANCASHIRE  \n",
              "22488251         BURNLEY      LANCASHIRE  \n",
              "22488252         BURNLEY      LANCASHIRE  \n",
              "22488253         BURNLEY      LANCASHIRE  \n",
              "\n",
              "[1954155 rows x 7 columns]"
            ],
            "text/html": [
              "\n",
              "  <div id=\"df-90d4cb6e-0246-4d25-b012-60c7bdbaa8af\">\n",
              "    <div class=\"colab-df-container\">\n",
              "      <div>\n",
              "<style scoped>\n",
              "    .dataframe tbody tr th:only-of-type {\n",
              "        vertical-align: middle;\n",
              "    }\n",
              "\n",
              "    .dataframe tbody tr th {\n",
              "        vertical-align: top;\n",
              "    }\n",
              "\n",
              "    .dataframe thead th {\n",
              "        text-align: right;\n",
              "    }\n",
              "</style>\n",
              "<table border=\"1\" class=\"dataframe\">\n",
              "  <thead>\n",
              "    <tr style=\"text-align: right;\">\n",
              "      <th></th>\n",
              "      <th>Price</th>\n",
              "      <th>Date of Transfer</th>\n",
              "      <th>Property Type</th>\n",
              "      <th>Old/New</th>\n",
              "      <th>Town/City</th>\n",
              "      <th>District</th>\n",
              "      <th>County</th>\n",
              "    </tr>\n",
              "  </thead>\n",
              "  <tbody>\n",
              "    <tr>\n",
              "      <th>30</th>\n",
              "      <td>62000</td>\n",
              "      <td>1995-02-21 00:00</td>\n",
              "      <td>T</td>\n",
              "      <td>N</td>\n",
              "      <td>LONDON</td>\n",
              "      <td>BARNET</td>\n",
              "      <td>GREATER LONDON</td>\n",
              "    </tr>\n",
              "    <tr>\n",
              "      <th>37</th>\n",
              "      <td>77495</td>\n",
              "      <td>1995-01-05 00:00</td>\n",
              "      <td>T</td>\n",
              "      <td>N</td>\n",
              "      <td>LONDON</td>\n",
              "      <td>WALTHAM FOREST</td>\n",
              "      <td>GREATER LONDON</td>\n",
              "    </tr>\n",
              "    <tr>\n",
              "      <th>105</th>\n",
              "      <td>121250</td>\n",
              "      <td>1995-05-19 00:00</td>\n",
              "      <td>F</td>\n",
              "      <td>N</td>\n",
              "      <td>LONDON</td>\n",
              "      <td>BARNET</td>\n",
              "      <td>GREATER LONDON</td>\n",
              "    </tr>\n",
              "    <tr>\n",
              "      <th>107</th>\n",
              "      <td>128500</td>\n",
              "      <td>1995-03-01 00:00</td>\n",
              "      <td>T</td>\n",
              "      <td>N</td>\n",
              "      <td>LONDON</td>\n",
              "      <td>WANDSWORTH</td>\n",
              "      <td>GREATER LONDON</td>\n",
              "    </tr>\n",
              "    <tr>\n",
              "      <th>114</th>\n",
              "      <td>157500</td>\n",
              "      <td>1995-03-17 00:00</td>\n",
              "      <td>S</td>\n",
              "      <td>N</td>\n",
              "      <td>LONDON</td>\n",
              "      <td>ISLINGTON</td>\n",
              "      <td>GREATER LONDON</td>\n",
              "    </tr>\n",
              "    <tr>\n",
              "      <th>...</th>\n",
              "      <td>...</td>\n",
              "      <td>...</td>\n",
              "      <td>...</td>\n",
              "      <td>...</td>\n",
              "      <td>...</td>\n",
              "      <td>...</td>\n",
              "      <td>...</td>\n",
              "    </tr>\n",
              "    <tr>\n",
              "      <th>22488249</th>\n",
              "      <td>70000</td>\n",
              "      <td>2017-04-04 00:00</td>\n",
              "      <td>F</td>\n",
              "      <td>N</td>\n",
              "      <td>BURNLEY</td>\n",
              "      <td>BURNLEY</td>\n",
              "      <td>LANCASHIRE</td>\n",
              "    </tr>\n",
              "    <tr>\n",
              "      <th>22488250</th>\n",
              "      <td>70000</td>\n",
              "      <td>2017-04-04 00:00</td>\n",
              "      <td>F</td>\n",
              "      <td>N</td>\n",
              "      <td>BURNLEY</td>\n",
              "      <td>BURNLEY</td>\n",
              "      <td>LANCASHIRE</td>\n",
              "    </tr>\n",
              "    <tr>\n",
              "      <th>22488251</th>\n",
              "      <td>70000</td>\n",
              "      <td>2017-04-04 00:00</td>\n",
              "      <td>F</td>\n",
              "      <td>N</td>\n",
              "      <td>BURNLEY</td>\n",
              "      <td>BURNLEY</td>\n",
              "      <td>LANCASHIRE</td>\n",
              "    </tr>\n",
              "    <tr>\n",
              "      <th>22488252</th>\n",
              "      <td>70000</td>\n",
              "      <td>2017-04-04 00:00</td>\n",
              "      <td>F</td>\n",
              "      <td>N</td>\n",
              "      <td>BURNLEY</td>\n",
              "      <td>BURNLEY</td>\n",
              "      <td>LANCASHIRE</td>\n",
              "    </tr>\n",
              "    <tr>\n",
              "      <th>22488253</th>\n",
              "      <td>70000</td>\n",
              "      <td>2017-04-04 00:00</td>\n",
              "      <td>F</td>\n",
              "      <td>N</td>\n",
              "      <td>BURNLEY</td>\n",
              "      <td>BURNLEY</td>\n",
              "      <td>LANCASHIRE</td>\n",
              "    </tr>\n",
              "  </tbody>\n",
              "</table>\n",
              "<p>1954155 rows × 7 columns</p>\n",
              "</div>\n",
              "      <button class=\"colab-df-convert\" onclick=\"convertToInteractive('df-90d4cb6e-0246-4d25-b012-60c7bdbaa8af')\"\n",
              "              title=\"Convert this dataframe to an interactive table.\"\n",
              "              style=\"display:none;\">\n",
              "        \n",
              "  <svg xmlns=\"http://www.w3.org/2000/svg\" height=\"24px\"viewBox=\"0 0 24 24\"\n",
              "       width=\"24px\">\n",
              "    <path d=\"M0 0h24v24H0V0z\" fill=\"none\"/>\n",
              "    <path d=\"M18.56 5.44l.94 2.06.94-2.06 2.06-.94-2.06-.94-.94-2.06-.94 2.06-2.06.94zm-11 1L8.5 8.5l.94-2.06 2.06-.94-2.06-.94L8.5 2.5l-.94 2.06-2.06.94zm10 10l.94 2.06.94-2.06 2.06-.94-2.06-.94-.94-2.06-.94 2.06-2.06.94z\"/><path d=\"M17.41 7.96l-1.37-1.37c-.4-.4-.92-.59-1.43-.59-.52 0-1.04.2-1.43.59L10.3 9.45l-7.72 7.72c-.78.78-.78 2.05 0 2.83L4 21.41c.39.39.9.59 1.41.59.51 0 1.02-.2 1.41-.59l7.78-7.78 2.81-2.81c.8-.78.8-2.07 0-2.86zM5.41 20L4 18.59l7.72-7.72 1.47 1.35L5.41 20z\"/>\n",
              "  </svg>\n",
              "      </button>\n",
              "      \n",
              "  <style>\n",
              "    .colab-df-container {\n",
              "      display:flex;\n",
              "      flex-wrap:wrap;\n",
              "      gap: 12px;\n",
              "    }\n",
              "\n",
              "    .colab-df-convert {\n",
              "      background-color: #E8F0FE;\n",
              "      border: none;\n",
              "      border-radius: 50%;\n",
              "      cursor: pointer;\n",
              "      display: none;\n",
              "      fill: #1967D2;\n",
              "      height: 32px;\n",
              "      padding: 0 0 0 0;\n",
              "      width: 32px;\n",
              "    }\n",
              "\n",
              "    .colab-df-convert:hover {\n",
              "      background-color: #E2EBFA;\n",
              "      box-shadow: 0px 1px 2px rgba(60, 64, 67, 0.3), 0px 1px 3px 1px rgba(60, 64, 67, 0.15);\n",
              "      fill: #174EA6;\n",
              "    }\n",
              "\n",
              "    [theme=dark] .colab-df-convert {\n",
              "      background-color: #3B4455;\n",
              "      fill: #D2E3FC;\n",
              "    }\n",
              "\n",
              "    [theme=dark] .colab-df-convert:hover {\n",
              "      background-color: #434B5C;\n",
              "      box-shadow: 0px 1px 3px 1px rgba(0, 0, 0, 0.15);\n",
              "      filter: drop-shadow(0px 1px 2px rgba(0, 0, 0, 0.3));\n",
              "      fill: #FFFFFF;\n",
              "    }\n",
              "  </style>\n",
              "\n",
              "      <script>\n",
              "        const buttonEl =\n",
              "          document.querySelector('#df-90d4cb6e-0246-4d25-b012-60c7bdbaa8af button.colab-df-convert');\n",
              "        buttonEl.style.display =\n",
              "          google.colab.kernel.accessAllowed ? 'block' : 'none';\n",
              "\n",
              "        async function convertToInteractive(key) {\n",
              "          const element = document.querySelector('#df-90d4cb6e-0246-4d25-b012-60c7bdbaa8af');\n",
              "          const dataTable =\n",
              "            await google.colab.kernel.invokeFunction('convertToInteractive',\n",
              "                                                     [key], {});\n",
              "          if (!dataTable) return;\n",
              "\n",
              "          const docLinkHtml = 'Like what you see? Visit the ' +\n",
              "            '<a target=\"_blank\" href=https://colab.research.google.com/notebooks/data_table.ipynb>data table notebook</a>'\n",
              "            + ' to learn more about interactive tables.';\n",
              "          element.innerHTML = '';\n",
              "          dataTable['output_type'] = 'display_data';\n",
              "          await google.colab.output.renderOutput(dataTable, element);\n",
              "          const docLink = document.createElement('div');\n",
              "          docLink.innerHTML = docLinkHtml;\n",
              "          element.appendChild(docLink);\n",
              "        }\n",
              "      </script>\n",
              "    </div>\n",
              "  </div>\n",
              "  "
            ]
          },
          "metadata": {},
          "execution_count": 24
        }
      ]
    }
  ]
}